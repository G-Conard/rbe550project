{
 "cells": [
  {
   "cell_type": "markdown",
   "metadata": {},
   "source": [
    "# Trashcan numbers\n",
    "\n",
    "\n",
    "## 243\n",
    "\n",
    "243\n"
   ]
  },
  {
   "cell_type": "markdown",
   "metadata": {},
   "source": [
    "# Mailbox Numbers\n",
    "\n",
    "## 756\n",
    "756\n"
   ]
  },
  {
   "cell_type": "markdown",
   "metadata": {},
   "source": [
    "# Book Titles\n",
    "\n",
    "## Pride and <br> Prejudice\n",
    "\n",
    "\n",
    "## The Wonderful <br> Wizard of Oz\n",
    "\n",
    "## Treasure <br> Island\n",
    "\n",
    "## The Odyssey"
   ]
  },
  {
   "cell_type": "markdown",
   "metadata": {},
   "source": []
  }
 ],
 "metadata": {
  "language_info": {
   "name": "python"
  },
  "orig_nbformat": 4
 },
 "nbformat": 4,
 "nbformat_minor": 2
}
